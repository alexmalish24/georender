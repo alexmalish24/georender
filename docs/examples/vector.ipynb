{
 "cells": [
  {
   "cell_type": "code",
   "execution_count": 3,
   "metadata": {},
   "outputs": [],
   "source": [
    "import georender"
   ]
  },
  {
   "cell_type": "code",
   "execution_count": 5,
   "metadata": {},
   "outputs": [
    {
     "data": {
      "application/vnd.jupyter.widget-view+json": {
       "model_id": "fa19e6f7c6624d6c9a9d76e8a0e0e734",
       "version_major": 2,
       "version_minor": 0
      },
      "text/plain": [
       "Map(center=[20, 0], controls=(ZoomControl(options=['position', 'zoom_in_text', 'zoom_in_title', 'zoom_out_text…"
      ]
     },
     "execution_count": 5,
     "metadata": {},
     "output_type": "execute_result"
    }
   ],
   "source": [
    "m = georender.Map()\n",
    "m.add_basemap('OpenTopoMap')\n",
    "m.add_geojson(\"europe_110.geo.json\")\n",
    "# m.add_geojson(\"countries.geojson\", name='countries')\n",
    "m.add_shp(\"countries.shp\", name='countries')\n",
    "m.add_layer_control()\n",
    "m"
   ]
  },
  {
   "cell_type": "code",
   "execution_count": null,
   "metadata": {},
   "outputs": [],
   "source": [
    "m = georender.Map()\n",
    "m.add_basemap('OpenTopoMap')\n",
    "#m.add_geojson(\"europe_110.geo.json\")\n",
    "\n",
    "\n",
    "style = {\n",
    "    'opacity': 1, 'dashArray': '9', 'fillOpacity': 0.5, 'weight': 1\n",
    "}\n",
    "hover_style = {\n",
    "    'color': 'blue', 'dashArray': '0', 'fillOpacity': 0.5\n",
    "}\n",
    "m.add_geojson(\"countries.geojson\", name='countries', style=style, hover_style=hover_style)\n",
    "m.add_layer_control()\n",
    "m\n"
   ]
  },
  {
   "cell_type": "code",
   "execution_count": null,
   "metadata": {},
   "outputs": [],
   "source": [
    "import json\n",
    "from ipyleaflet import Map, GeoJSON\n",
    "\n",
    "with open('europe_110.geo.json', 'r') as f:\n",
    "    data = json.load(f)\n",
    "data"
   ]
  }
 ],
 "metadata": {
  "kernelspec": {
   "display_name": "Python 3",
   "language": "python",
   "name": "python3"
  },
  "language_info": {
   "codemirror_mode": {
    "name": "ipython",
    "version": 3
   },
   "file_extension": ".py",
   "mimetype": "text/x-python",
   "name": "python",
   "nbconvert_exporter": "python",
   "pygments_lexer": "ipython3",
   "version": "3.11.8"
  }
 },
 "nbformat": 4,
 "nbformat_minor": 2
}
