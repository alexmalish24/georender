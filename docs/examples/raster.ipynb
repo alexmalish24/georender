{
 "cells": [
  {
   "cell_type": "code",
   "execution_count": 10,
   "metadata": {},
   "outputs": [],
   "source": [
    "import georender"
   ]
  },
  {
   "cell_type": "code",
   "execution_count": null,
   "metadata": {},
   "outputs": [],
   "source": [
    "m = georender.Map()\n",
    "\n",
    "# url = \"https://i.gifer.com/6Q1f.gif\"\n",
    "# url='../06Q1fSz.png',\n",
    "# bounds=((13, -130), (32, -100))\n",
    "# m.add_image(url, bounds=bounds)\n",
    "# # m.scroll_wheel_zoom = True\n",
    "# m.add_layer_control()\n",
    "# m\n"
   ]
  },
  {
   "cell_type": "code",
   "execution_count": null,
   "metadata": {},
   "outputs": [],
   "source": [
    "# m = georender.Map()\n",
    "# # data ='https://github.com/opengeos/datasets/releases/download/raster/srtm90.tif'\n",
    "# m.add_raster(data, colormap='terrain')\n",
    "# m"
   ]
  },
  {
   "cell_type": "code",
   "execution_count": null,
   "metadata": {},
   "outputs": [],
   "source": [
    "m.layers[-1].url"
   ]
  },
  {
   "cell_type": "code",
   "execution_count": null,
   "metadata": {},
   "outputs": [],
   "source": [
    "m.layers[-1].interact(opacity=(0.0, 1.0, 0.1))"
   ]
  }
 ],
 "metadata": {
  "kernelspec": {
   "display_name": "Python 3",
   "language": "python",
   "name": "python3"
  },
  "language_info": {
   "codemirror_mode": {
    "name": "ipython",
    "version": 3
   },
   "file_extension": ".py",
   "mimetype": "text/x-python",
   "name": "python",
   "nbconvert_exporter": "python",
   "pygments_lexer": "ipython3",
   "version": "3.11.8"
  }
 },
 "nbformat": 4,
 "nbformat_minor": 2
}
